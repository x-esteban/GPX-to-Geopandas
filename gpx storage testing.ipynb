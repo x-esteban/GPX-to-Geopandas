{
 "cells": [
  {
   "cell_type": "markdown",
   "id": "caefc2a9",
   "metadata": {},
   "source": [
    "# Testing different methods to store gpx files and the resources needed"
   ]
  },
  {
   "cell_type": "markdown",
   "id": "4b142aa4",
   "metadata": {},
   "source": [
    "Since need to store huge quantities of parsed *gpx* files for the current project (**On2wheels**), I need to find out which method is the best to store and manipulate that kind of data.\n",
    "\n",
    "Up to this point my usual methodology was parsing a *gpx* file using the library **Gpxpy** and storing its contents (latitude/longitude, altitude) as lists on a pandas dataframe row. This way every row can hold a whole *gpx* file, but we can't perform calculations on it easily as we need to use **eval** on that cell to access its coordinates.\n",
    "\n",
    "In this notebook we will be testing different storage methodologies and comparing them using size/calculation speed as a benchmark."
   ]
  },
  {
   "cell_type": "code",
   "execution_count": null,
   "id": "d61ece2e",
   "metadata": {},
   "outputs": [],
   "source": []
  }
 ],
 "metadata": {
  "kernelspec": {
   "display_name": "Python 3",
   "language": "python",
   "name": "python3"
  },
  "language_info": {
   "codemirror_mode": {
    "name": "ipython",
    "version": 3
   },
   "file_extension": ".py",
   "mimetype": "text/x-python",
   "name": "python",
   "nbconvert_exporter": "python",
   "pygments_lexer": "ipython3",
   "version": "3.8.8"
  },
  "toc": {
   "base_numbering": 1,
   "nav_menu": {},
   "number_sections": true,
   "sideBar": true,
   "skip_h1_title": false,
   "title_cell": "Table of Contents",
   "title_sidebar": "Contents",
   "toc_cell": false,
   "toc_position": {},
   "toc_section_display": true,
   "toc_window_display": false
  },
  "varInspector": {
   "cols": {
    "lenName": 16,
    "lenType": 16,
    "lenVar": 40
   },
   "kernels_config": {
    "python": {
     "delete_cmd_postfix": "",
     "delete_cmd_prefix": "del ",
     "library": "var_list.py",
     "varRefreshCmd": "print(var_dic_list())"
    },
    "r": {
     "delete_cmd_postfix": ") ",
     "delete_cmd_prefix": "rm(",
     "library": "var_list.r",
     "varRefreshCmd": "cat(var_dic_list()) "
    }
   },
   "types_to_exclude": [
    "module",
    "function",
    "builtin_function_or_method",
    "instance",
    "_Feature"
   ],
   "window_display": false
  }
 },
 "nbformat": 4,
 "nbformat_minor": 5
}
